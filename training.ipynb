{
 "cells": [
  {
   "cell_type": "code",
   "execution_count": null,
   "metadata": {},
   "outputs": [],
   "source": [
    "# Data Collection\n",
    "\n",
    "import nltk\n",
    "nltk.download('gutenberg')\n",
    "from nltk.corpus import gutenberg\n",
    "import pandas as pd\n",
    "\n",
    "# Load the dataset\n",
    "data = gutenberg.raw('shakespeare-hamlet.txt')\n",
    "\n",
    "# Save to a file\n",
    "with open(\"shakespeare.txt\",'w') as file:\n",
    "    file.write(data)\n"
   ]
  },
  {
   "cell_type": "code",
   "execution_count": null,
   "metadata": {},
   "outputs": [],
   "source": [
    "# Data preprocessing\n",
    "\n",
    "import numpy as np\n",
    "from tensorflow.keras.preprocessing.text import Tokenizer\n",
    "from tensorflow.keras.utils import pad_sequences\n",
    "from sklearn.model_selection import train_test_split\n",
    "\n",
    "# Load the dataset\n",
    "with open('shakespeare.txt','r') as file:\n",
    "    text = file.read().lower()\n",
    "\n",
    "#Tokenize the text \n",
    "tokenzier = Tokenizer()\n",
    "tokenzier.fit_on_texts([text])\n",
    "total_words = len(tokenzier.word_index)+1\n",
    "total_words\n"
   ]
  },
  {
   "cell_type": "code",
   "execution_count": 22,
   "metadata": {},
   "outputs": [],
   "source": [
    "# Create Input Sequences\n",
    "input_sequence = []\n",
    "for line in text.split('\\n'):\n",
    "    token_list = tokenzier.texts_to_sequences([line])[0]\n",
    "    for i in range(1,len(token_list)):\n",
    "        n_gram_sequence = token_list[:i+1]\n",
    "        input_sequence.append(n_gram_sequence)\n"
   ]
  },
  {
   "cell_type": "code",
   "execution_count": null,
   "metadata": {},
   "outputs": [],
   "source": [
    "input_sequence"
   ]
  },
  {
   "cell_type": "code",
   "execution_count": null,
   "metadata": {},
   "outputs": [],
   "source": [
    "# Pad Sequences\n",
    "max_sequence_len = max(len(x) for x in input_sequence)\n",
    "max_sequence_len\n",
    "\n",
    "input_sequence = np.array(pad_sequences(input_sequence, maxlen=max_sequence_len,padding='pre'))\n",
    "input_sequence"
   ]
  },
  {
   "cell_type": "code",
   "execution_count": 25,
   "metadata": {},
   "outputs": [],
   "source": [
    "# create predictors and label\n",
    "import tensorflow as tf\n",
    "\n",
    "X,y=input_sequence[:,:-1],input_sequence[:,-1]\n",
    "\n"
   ]
  },
  {
   "cell_type": "code",
   "execution_count": null,
   "metadata": {},
   "outputs": [],
   "source": [
    "y=tf.keras.utils.to_categorical(y,num_classes=total_words)\n",
    "y"
   ]
  },
  {
   "cell_type": "code",
   "execution_count": 27,
   "metadata": {},
   "outputs": [],
   "source": [
    "#Split the data into training and testing\n",
    "X_train, X_test, y_train, y_test = train_test_split(X,y,test_size=0.2,random_state=42)"
   ]
  },
  {
   "cell_type": "code",
   "execution_count": null,
   "metadata": {},
   "outputs": [],
   "source": [
    "# #Train LSTM RNN\n",
    "\n",
    "# from tensorflow.keras.models import Sequential\n",
    "# from tensorflow.keras.layers import Dense, LSTM, Embedding, Dropout\n",
    "# from tensorflow.keras.regularizers import l2\n",
    "# from tensorflow.keras.optimizers import Adam\n",
    "\n",
    "# #Define Model\n",
    "# model = Sequential()\n",
    "# model.add(Embedding(input_dim=total_words,output_dim=100,input_length=max_sequence_len))\n",
    "# model.add(LSTM(150,return_sequences=True))\n",
    "# model.add(Dropout(0.2))\n",
    "# model.add(LSTM(100))\n",
    "# model.add(Dense(total_words,activation='softmax'))\n",
    "\n",
    "# # Build the Model\n",
    "# model.build(input_shape=(None, max_sequence_len))  # None for batch size, max_sequence_len for sequence length\n",
    "\n",
    "# optimizer = Adam(learning_rate=0.0005)\n",
    "# #Complie Model\n",
    "# model.compile(loss='categorical_crossentropy',optimizer = optimizer, metrics =['accuracy'])"
   ]
  },
  {
   "cell_type": "code",
   "execution_count": null,
   "metadata": {},
   "outputs": [],
   "source": [
    "# model.summary()"
   ]
  },
  {
   "cell_type": "code",
   "execution_count": 11,
   "metadata": {},
   "outputs": [],
   "source": [
    "# # Early Stopping\n",
    "\n",
    "# from tensorflow.keras.callbacks import EarlyStopping\n",
    "\n",
    "# early_stopping = EarlyStopping(\n",
    "#     monitor ='val_loss',\n",
    "#     patience = 3,\n",
    "#     restore_best_weights = True\n",
    "# )"
   ]
  },
  {
   "cell_type": "code",
   "execution_count": null,
   "metadata": {},
   "outputs": [],
   "source": [
    "# # Train Model\n",
    "\n",
    "# history = model.fit(\n",
    "#     X_train,\n",
    "#     y_train,\n",
    "#     epochs = 50,\n",
    "#     batch_size = 64,\n",
    "#     validation_data=(X_test,y_test),\n",
    "#     #callbacks=[early_stopping],\n",
    "#     verbose=1\n",
    "# )"
   ]
  },
  {
   "cell_type": "code",
   "execution_count": 34,
   "metadata": {},
   "outputs": [],
   "source": [
    "#Train GRU RNN\n",
    "\n",
    "from tensorflow.keras.models import Sequential\n",
    "from tensorflow.keras.layers import Dense, GRU, Embedding, Dropout\n",
    "from tensorflow.keras.regularizers import l2\n",
    "from tensorflow.keras.optimizers import Adam\n",
    "\n",
    "#Define Model\n",
    "model = Sequential()\n",
    "model.add(Embedding(input_dim=total_words,output_dim=32,input_length=max_sequence_len))\n",
    "model.add(GRU(150,return_sequences=True,kernel_regularizer=l2(0.001)))\n",
    "model.add(Dropout(0.2))\n",
    "model.add(GRU(100,kernel_regularizer=l2(0.001)))\n",
    "model.add(Dense(total_words,activation='softmax',kernel_regularizer=l2(0.001)))\n",
    "\n",
    "# Build the Model\n",
    "model.build(input_shape=(None, max_sequence_len))  # None for batch size, max_sequence_len for sequence length\n",
    "\n",
    "\n",
    "#Complie Model\n",
    "model.compile(loss='categorical_crossentropy',optimizer = 'adam', metrics =['accuracy'])\n",
    "\n",
    "\n"
   ]
  },
  {
   "cell_type": "code",
   "execution_count": null,
   "metadata": {},
   "outputs": [],
   "source": [
    "# Train Model\n",
    "\n",
    "history = model.fit(\n",
    "    X_train,\n",
    "    y_train,\n",
    "    epochs = 50,\n",
    "    batch_size = 64,\n",
    "    validation_data=(X_test,y_test),\n",
    "    #callbacks=[early_stopping],\n",
    "    verbose=1\n",
    ")"
   ]
  },
  {
   "cell_type": "code",
   "execution_count": 38,
   "metadata": {},
   "outputs": [],
   "source": [
    "# Function to predict the next word\n",
    "def predict_next_word(model, tokenizer, text, max_sequence_len):\n",
    "    token_list = tokenizer.texts_to_sequences([text])[0]\n",
    "    if len(token_list) >= max_sequence_len:\n",
    "        token_list = token_list[-(max_sequence_len):]  # Ensure the sequence length matches max_sequence_len-1\n",
    "    token_list = pad_sequences([token_list], maxlen=max_sequence_len-1, padding='pre')\n",
    "    predicted = model.predict(token_list, verbose=0)\n",
    "    predicted_word_index = np.argmax(predicted, axis=1)\n",
    "    for word, index in tokenizer.word_index.items():\n",
    "        if index == predicted_word_index:\n",
    "            return word\n",
    "    return None"
   ]
  },
  {
   "cell_type": "code",
   "execution_count": null,
   "metadata": {},
   "outputs": [],
   "source": [
    "input_text=\"To be or not to be\"\n",
    "print(f\"Input text:{input_text}\")\n",
    "max_sequence_len=model.input_shape[1]\n",
    "next_word=predict_next_word(model,tokenzier,input_text,max_sequence_len)\n",
    "print(f\"Next Word PRediction:{next_word}\")"
   ]
  },
  {
   "cell_type": "code",
   "execution_count": null,
   "metadata": {},
   "outputs": [],
   "source": [
    "## Save the model\n",
    "model.save(\"next_word_GRU.h5\")\n",
    "## Save the tokenizer\n",
    "import pickle\n",
    "with open('tokenizer.pickle','wb') as handle:\n",
    "    pickle.dump(tokenzier,handle,protocol=pickle.HIGHEST_PROTOCOL)"
   ]
  },
  {
   "cell_type": "code",
   "execution_count": null,
   "metadata": {},
   "outputs": [],
   "source": []
  }
 ],
 "metadata": {
  "kernelspec": {
   "display_name": "Python 3",
   "language": "python",
   "name": "python3"
  },
  "language_info": {
   "codemirror_mode": {
    "name": "ipython",
    "version": 3
   },
   "file_extension": ".py",
   "mimetype": "text/x-python",
   "name": "python",
   "nbconvert_exporter": "python",
   "pygments_lexer": "ipython3",
   "version": "3.12.8"
  }
 },
 "nbformat": 4,
 "nbformat_minor": 2
}
